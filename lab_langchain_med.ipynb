{
  "cells": [
    {
      "cell_type": "markdown",
      "metadata": {
        "id": "view-in-github",
        "colab_type": "text"
      },
      "source": [
        "<a href=\"https://colab.research.google.com/github/DrNOFX97/lab-langchain-med/blob/main/lab_langchain_med.ipynb\" target=\"_parent\"><img src=\"https://colab.research.google.com/assets/colab-badge.svg\" alt=\"Open In Colab\"/></a>"
      ]
    },
    {
      "cell_type": "markdown",
      "id": "40261e9b-c536-41bc-8a0a-b7d7c6aa0baa",
      "metadata": {
        "id": "40261e9b-c536-41bc-8a0a-b7d7c6aa0baa"
      },
      "source": [
        "# Lab | LangChain Med\n",
        "\n",
        "## Objectives\n",
        "\n",
        "- continue on with lesson 2' example, use different datasets to test what we did in class. Some datasets are suggested in the notebook but feel free to scout other datasets on HuggingFace or Kaggle.\n",
        "- Find another model on Hugging Face and compare it.\n",
        "- Modify the prompt to fit your selected dataset."
      ]
    },
    {
      "cell_type": "code",
      "execution_count": 1,
      "id": "39ce0d3f",
      "metadata": {
        "papermill": {
          "duration": 0.028165,
          "end_time": "2024-02-21T15:58:20.016814",
          "exception": false,
          "start_time": "2024-02-21T15:58:19.988649",
          "status": "completed"
        },
        "tags": [],
        "id": "39ce0d3f"
      },
      "outputs": [],
      "source": [
        "import numpy as np\n",
        "import pandas as pd"
      ]
    },
    {
      "cell_type": "markdown",
      "id": "57dad70f",
      "metadata": {
        "papermill": {
          "duration": 0.016026,
          "end_time": "2024-02-21T15:58:20.049214",
          "exception": false,
          "start_time": "2024-02-21T15:58:20.033188",
          "status": "completed"
        },
        "tags": [],
        "id": "57dad70f"
      },
      "source": [
        "## Load the Dataset\n",
        "As you can see the notebook is ready to work with three different Datasets. Just uncomment the lines of the Dataset you want to use.\n",
        "\n",
        "I selected Datasets with News. Two of them have just a brief decription of the news, but the other contains the full text.\n",
        "\n",
        "As we are working in a free and limited space, I limited the number of news to use with the variable MAX_NEWS. Feel free to pull more if you have memory available.\n",
        "\n",
        "The name of the field containing the text of the new is stored in the variable *DOCUMENT* and the metadata in *TOPIC*"
      ]
    },
    {
      "cell_type": "code",
      "execution_count": 6,
      "id": "e70a47e0",
      "metadata": {
        "papermill": {
          "duration": 1.170763,
          "end_time": "2024-02-21T15:58:21.235862",
          "exception": false,
          "start_time": "2024-02-21T15:58:20.065099",
          "status": "completed"
        },
        "tags": [],
        "id": "e70a47e0"
      },
      "outputs": [],
      "source": [
        "news = pd.read_csv('labelled_newscatcher_dataset.csv', sep=';')\n",
        "MAX_NEWS = 1000\n",
        "DOCUMENT=\"title\"\n",
        "TOPIC=\"topic\"\n",
        "\n",
        "#news = pd.read_csv('bbc_news.csv')\n",
        "#MAX_NEWS = 1000\n",
        "#DOCUMENT=\"description\"\n",
        "#TOPIC=\"title\"\n",
        "\n",
        "#news = pd.read_csv('articles.csv')\n",
        "#MAX_NEWS = 100\n",
        "#DOCUMENT=\"Article Body\"\n",
        "#TOPIC=\"Article Header\"\n",
        "\n",
        "#news = \"PICK A DATASET\" #Ideally pick one from the commented ones above"
      ]
    },
    {
      "cell_type": "markdown",
      "id": "aeb276f4",
      "metadata": {
        "papermill": {
          "duration": 0.016461,
          "end_time": "2024-02-21T15:58:21.268282",
          "exception": false,
          "start_time": "2024-02-21T15:58:21.251821",
          "status": "completed"
        },
        "tags": [],
        "id": "aeb276f4"
      },
      "source": [
        "ChromaDB requires that the data has a unique identifier. We can make it with this statement, which will create a new column called **Id**.\n"
      ]
    },
    {
      "cell_type": "code",
      "execution_count": 7,
      "id": "61c151df",
      "metadata": {
        "papermill": {
          "duration": 0.054847,
          "end_time": "2024-02-21T15:58:21.339906",
          "exception": false,
          "start_time": "2024-02-21T15:58:21.285059",
          "status": "completed"
        },
        "tags": [],
        "colab": {
          "base_uri": "https://localhost:8080/",
          "height": 206
        },
        "id": "61c151df",
        "outputId": "13a98b6c-0e7d-4c8d-bb55-0e03ab1bc78c"
      },
      "outputs": [
        {
          "output_type": "execute_result",
          "data": {
            "text/plain": [
              "     topic                                               link          domain  \\\n",
              "0  SCIENCE  https://www.eurekalert.org/pub_releases/2020-0...  eurekalert.org   \n",
              "1  SCIENCE  https://www.pulse.ng/news/world/an-irresistibl...        pulse.ng   \n",
              "2  SCIENCE  https://www.express.co.uk/news/science/1322607...   express.co.uk   \n",
              "3  SCIENCE  https://www.ndtv.com/world-news/glaciers-could...        ndtv.com   \n",
              "4  SCIENCE  https://www.thesun.ie/tech/5742187/perseid-met...       thesun.ie   \n",
              "\n",
              "        published_date                                              title  \\\n",
              "0  2020-08-06 13:59:45  A closer look at water-splitting's solar fuel ...   \n",
              "1  2020-08-12 15:14:19  An irresistible scent makes locusts swarm, stu...   \n",
              "2  2020-08-13 21:01:00  Artificial intelligence warning: AI will know ...   \n",
              "3  2020-08-03 22:18:26   Glaciers Could Have Sculpted Mars Valleys: Study   \n",
              "4  2020-08-12 19:54:36  Perseid meteor shower 2020: What time and how ...   \n",
              "\n",
              "  lang  id  \n",
              "0   en   0  \n",
              "1   en   1  \n",
              "2   en   2  \n",
              "3   en   3  \n",
              "4   en   4  "
            ],
            "text/html": [
              "\n",
              "  <div id=\"df-ece1cc79-4693-4a8f-8aff-66443140463d\" class=\"colab-df-container\">\n",
              "    <div>\n",
              "<style scoped>\n",
              "    .dataframe tbody tr th:only-of-type {\n",
              "        vertical-align: middle;\n",
              "    }\n",
              "\n",
              "    .dataframe tbody tr th {\n",
              "        vertical-align: top;\n",
              "    }\n",
              "\n",
              "    .dataframe thead th {\n",
              "        text-align: right;\n",
              "    }\n",
              "</style>\n",
              "<table border=\"1\" class=\"dataframe\">\n",
              "  <thead>\n",
              "    <tr style=\"text-align: right;\">\n",
              "      <th></th>\n",
              "      <th>topic</th>\n",
              "      <th>link</th>\n",
              "      <th>domain</th>\n",
              "      <th>published_date</th>\n",
              "      <th>title</th>\n",
              "      <th>lang</th>\n",
              "      <th>id</th>\n",
              "    </tr>\n",
              "  </thead>\n",
              "  <tbody>\n",
              "    <tr>\n",
              "      <th>0</th>\n",
              "      <td>SCIENCE</td>\n",
              "      <td>https://www.eurekalert.org/pub_releases/2020-0...</td>\n",
              "      <td>eurekalert.org</td>\n",
              "      <td>2020-08-06 13:59:45</td>\n",
              "      <td>A closer look at water-splitting's solar fuel ...</td>\n",
              "      <td>en</td>\n",
              "      <td>0</td>\n",
              "    </tr>\n",
              "    <tr>\n",
              "      <th>1</th>\n",
              "      <td>SCIENCE</td>\n",
              "      <td>https://www.pulse.ng/news/world/an-irresistibl...</td>\n",
              "      <td>pulse.ng</td>\n",
              "      <td>2020-08-12 15:14:19</td>\n",
              "      <td>An irresistible scent makes locusts swarm, stu...</td>\n",
              "      <td>en</td>\n",
              "      <td>1</td>\n",
              "    </tr>\n",
              "    <tr>\n",
              "      <th>2</th>\n",
              "      <td>SCIENCE</td>\n",
              "      <td>https://www.express.co.uk/news/science/1322607...</td>\n",
              "      <td>express.co.uk</td>\n",
              "      <td>2020-08-13 21:01:00</td>\n",
              "      <td>Artificial intelligence warning: AI will know ...</td>\n",
              "      <td>en</td>\n",
              "      <td>2</td>\n",
              "    </tr>\n",
              "    <tr>\n",
              "      <th>3</th>\n",
              "      <td>SCIENCE</td>\n",
              "      <td>https://www.ndtv.com/world-news/glaciers-could...</td>\n",
              "      <td>ndtv.com</td>\n",
              "      <td>2020-08-03 22:18:26</td>\n",
              "      <td>Glaciers Could Have Sculpted Mars Valleys: Study</td>\n",
              "      <td>en</td>\n",
              "      <td>3</td>\n",
              "    </tr>\n",
              "    <tr>\n",
              "      <th>4</th>\n",
              "      <td>SCIENCE</td>\n",
              "      <td>https://www.thesun.ie/tech/5742187/perseid-met...</td>\n",
              "      <td>thesun.ie</td>\n",
              "      <td>2020-08-12 19:54:36</td>\n",
              "      <td>Perseid meteor shower 2020: What time and how ...</td>\n",
              "      <td>en</td>\n",
              "      <td>4</td>\n",
              "    </tr>\n",
              "  </tbody>\n",
              "</table>\n",
              "</div>\n",
              "    <div class=\"colab-df-buttons\">\n",
              "\n",
              "  <div class=\"colab-df-container\">\n",
              "    <button class=\"colab-df-convert\" onclick=\"convertToInteractive('df-ece1cc79-4693-4a8f-8aff-66443140463d')\"\n",
              "            title=\"Convert this dataframe to an interactive table.\"\n",
              "            style=\"display:none;\">\n",
              "\n",
              "  <svg xmlns=\"http://www.w3.org/2000/svg\" height=\"24px\" viewBox=\"0 -960 960 960\">\n",
              "    <path d=\"M120-120v-720h720v720H120Zm60-500h600v-160H180v160Zm220 220h160v-160H400v160Zm0 220h160v-160H400v160ZM180-400h160v-160H180v160Zm440 0h160v-160H620v160ZM180-180h160v-160H180v160Zm440 0h160v-160H620v160Z\"/>\n",
              "  </svg>\n",
              "    </button>\n",
              "\n",
              "  <style>\n",
              "    .colab-df-container {\n",
              "      display:flex;\n",
              "      gap: 12px;\n",
              "    }\n",
              "\n",
              "    .colab-df-convert {\n",
              "      background-color: #E8F0FE;\n",
              "      border: none;\n",
              "      border-radius: 50%;\n",
              "      cursor: pointer;\n",
              "      display: none;\n",
              "      fill: #1967D2;\n",
              "      height: 32px;\n",
              "      padding: 0 0 0 0;\n",
              "      width: 32px;\n",
              "    }\n",
              "\n",
              "    .colab-df-convert:hover {\n",
              "      background-color: #E2EBFA;\n",
              "      box-shadow: 0px 1px 2px rgba(60, 64, 67, 0.3), 0px 1px 3px 1px rgba(60, 64, 67, 0.15);\n",
              "      fill: #174EA6;\n",
              "    }\n",
              "\n",
              "    .colab-df-buttons div {\n",
              "      margin-bottom: 4px;\n",
              "    }\n",
              "\n",
              "    [theme=dark] .colab-df-convert {\n",
              "      background-color: #3B4455;\n",
              "      fill: #D2E3FC;\n",
              "    }\n",
              "\n",
              "    [theme=dark] .colab-df-convert:hover {\n",
              "      background-color: #434B5C;\n",
              "      box-shadow: 0px 1px 3px 1px rgba(0, 0, 0, 0.15);\n",
              "      filter: drop-shadow(0px 1px 2px rgba(0, 0, 0, 0.3));\n",
              "      fill: #FFFFFF;\n",
              "    }\n",
              "  </style>\n",
              "\n",
              "    <script>\n",
              "      const buttonEl =\n",
              "        document.querySelector('#df-ece1cc79-4693-4a8f-8aff-66443140463d button.colab-df-convert');\n",
              "      buttonEl.style.display =\n",
              "        google.colab.kernel.accessAllowed ? 'block' : 'none';\n",
              "\n",
              "      async function convertToInteractive(key) {\n",
              "        const element = document.querySelector('#df-ece1cc79-4693-4a8f-8aff-66443140463d');\n",
              "        const dataTable =\n",
              "          await google.colab.kernel.invokeFunction('convertToInteractive',\n",
              "                                                    [key], {});\n",
              "        if (!dataTable) return;\n",
              "\n",
              "        const docLinkHtml = 'Like what you see? Visit the ' +\n",
              "          '<a target=\"_blank\" href=https://colab.research.google.com/notebooks/data_table.ipynb>data table notebook</a>'\n",
              "          + ' to learn more about interactive tables.';\n",
              "        element.innerHTML = '';\n",
              "        dataTable['output_type'] = 'display_data';\n",
              "        await google.colab.output.renderOutput(dataTable, element);\n",
              "        const docLink = document.createElement('div');\n",
              "        docLink.innerHTML = docLinkHtml;\n",
              "        element.appendChild(docLink);\n",
              "      }\n",
              "    </script>\n",
              "  </div>\n",
              "\n",
              "\n",
              "<div id=\"df-fc49fd98-f70a-438c-89f9-2e19493ceaa1\">\n",
              "  <button class=\"colab-df-quickchart\" onclick=\"quickchart('df-fc49fd98-f70a-438c-89f9-2e19493ceaa1')\"\n",
              "            title=\"Suggest charts\"\n",
              "            style=\"display:none;\">\n",
              "\n",
              "<svg xmlns=\"http://www.w3.org/2000/svg\" height=\"24px\"viewBox=\"0 0 24 24\"\n",
              "     width=\"24px\">\n",
              "    <g>\n",
              "        <path d=\"M19 3H5c-1.1 0-2 .9-2 2v14c0 1.1.9 2 2 2h14c1.1 0 2-.9 2-2V5c0-1.1-.9-2-2-2zM9 17H7v-7h2v7zm4 0h-2V7h2v10zm4 0h-2v-4h2v4z\"/>\n",
              "    </g>\n",
              "</svg>\n",
              "  </button>\n",
              "\n",
              "<style>\n",
              "  .colab-df-quickchart {\n",
              "      --bg-color: #E8F0FE;\n",
              "      --fill-color: #1967D2;\n",
              "      --hover-bg-color: #E2EBFA;\n",
              "      --hover-fill-color: #174EA6;\n",
              "      --disabled-fill-color: #AAA;\n",
              "      --disabled-bg-color: #DDD;\n",
              "  }\n",
              "\n",
              "  [theme=dark] .colab-df-quickchart {\n",
              "      --bg-color: #3B4455;\n",
              "      --fill-color: #D2E3FC;\n",
              "      --hover-bg-color: #434B5C;\n",
              "      --hover-fill-color: #FFFFFF;\n",
              "      --disabled-bg-color: #3B4455;\n",
              "      --disabled-fill-color: #666;\n",
              "  }\n",
              "\n",
              "  .colab-df-quickchart {\n",
              "    background-color: var(--bg-color);\n",
              "    border: none;\n",
              "    border-radius: 50%;\n",
              "    cursor: pointer;\n",
              "    display: none;\n",
              "    fill: var(--fill-color);\n",
              "    height: 32px;\n",
              "    padding: 0;\n",
              "    width: 32px;\n",
              "  }\n",
              "\n",
              "  .colab-df-quickchart:hover {\n",
              "    background-color: var(--hover-bg-color);\n",
              "    box-shadow: 0 1px 2px rgba(60, 64, 67, 0.3), 0 1px 3px 1px rgba(60, 64, 67, 0.15);\n",
              "    fill: var(--button-hover-fill-color);\n",
              "  }\n",
              "\n",
              "  .colab-df-quickchart-complete:disabled,\n",
              "  .colab-df-quickchart-complete:disabled:hover {\n",
              "    background-color: var(--disabled-bg-color);\n",
              "    fill: var(--disabled-fill-color);\n",
              "    box-shadow: none;\n",
              "  }\n",
              "\n",
              "  .colab-df-spinner {\n",
              "    border: 2px solid var(--fill-color);\n",
              "    border-color: transparent;\n",
              "    border-bottom-color: var(--fill-color);\n",
              "    animation:\n",
              "      spin 1s steps(1) infinite;\n",
              "  }\n",
              "\n",
              "  @keyframes spin {\n",
              "    0% {\n",
              "      border-color: transparent;\n",
              "      border-bottom-color: var(--fill-color);\n",
              "      border-left-color: var(--fill-color);\n",
              "    }\n",
              "    20% {\n",
              "      border-color: transparent;\n",
              "      border-left-color: var(--fill-color);\n",
              "      border-top-color: var(--fill-color);\n",
              "    }\n",
              "    30% {\n",
              "      border-color: transparent;\n",
              "      border-left-color: var(--fill-color);\n",
              "      border-top-color: var(--fill-color);\n",
              "      border-right-color: var(--fill-color);\n",
              "    }\n",
              "    40% {\n",
              "      border-color: transparent;\n",
              "      border-right-color: var(--fill-color);\n",
              "      border-top-color: var(--fill-color);\n",
              "    }\n",
              "    60% {\n",
              "      border-color: transparent;\n",
              "      border-right-color: var(--fill-color);\n",
              "    }\n",
              "    80% {\n",
              "      border-color: transparent;\n",
              "      border-right-color: var(--fill-color);\n",
              "      border-bottom-color: var(--fill-color);\n",
              "    }\n",
              "    90% {\n",
              "      border-color: transparent;\n",
              "      border-bottom-color: var(--fill-color);\n",
              "    }\n",
              "  }\n",
              "</style>\n",
              "\n",
              "  <script>\n",
              "    async function quickchart(key) {\n",
              "      const quickchartButtonEl =\n",
              "        document.querySelector('#' + key + ' button');\n",
              "      quickchartButtonEl.disabled = true;  // To prevent multiple clicks.\n",
              "      quickchartButtonEl.classList.add('colab-df-spinner');\n",
              "      try {\n",
              "        const charts = await google.colab.kernel.invokeFunction(\n",
              "            'suggestCharts', [key], {});\n",
              "      } catch (error) {\n",
              "        console.error('Error during call to suggestCharts:', error);\n",
              "      }\n",
              "      quickchartButtonEl.classList.remove('colab-df-spinner');\n",
              "      quickchartButtonEl.classList.add('colab-df-quickchart-complete');\n",
              "    }\n",
              "    (() => {\n",
              "      let quickchartButtonEl =\n",
              "        document.querySelector('#df-fc49fd98-f70a-438c-89f9-2e19493ceaa1 button');\n",
              "      quickchartButtonEl.style.display =\n",
              "        google.colab.kernel.accessAllowed ? 'block' : 'none';\n",
              "    })();\n",
              "  </script>\n",
              "</div>\n",
              "\n",
              "    </div>\n",
              "  </div>\n"
            ],
            "application/vnd.google.colaboratory.intrinsic+json": {
              "type": "dataframe",
              "variable_name": "news"
            }
          },
          "metadata": {},
          "execution_count": 7
        }
      ],
      "source": [
        "news[\"id\"] = news.index\n",
        "news.head()"
      ]
    },
    {
      "cell_type": "code",
      "execution_count": 8,
      "id": "1849922b",
      "metadata": {
        "papermill": {
          "duration": 0.027701,
          "end_time": "2024-02-21T15:58:21.383814",
          "exception": false,
          "start_time": "2024-02-21T15:58:21.356113",
          "status": "completed"
        },
        "tags": [],
        "id": "1849922b"
      },
      "outputs": [],
      "source": [
        "#Because it is just a course we select a small portion of News.\n",
        "subset_news = news.head(MAX_NEWS)"
      ]
    },
    {
      "cell_type": "markdown",
      "id": "893babc1",
      "metadata": {
        "papermill": {
          "duration": 0.015939,
          "end_time": "2024-02-21T15:58:21.416088",
          "exception": false,
          "start_time": "2024-02-21T15:58:21.400149",
          "status": "completed"
        },
        "tags": [],
        "id": "893babc1"
      },
      "source": [
        "## Import and configure the Vector Database\n",
        "I'm going to use ChromaDB, the most popular OpenSource embedding Database.\n",
        "\n",
        "First we need to import ChromaDB, and after that import the **Settings** class from **chromadb.config** module. This class allows us to change the setting for the ChromaDB system, and customize its behavior."
      ]
    },
    {
      "cell_type": "code",
      "execution_count": 9,
      "id": "82db86aa",
      "metadata": {
        "papermill": {
          "duration": 1.095805,
          "end_time": "2024-02-21T15:58:22.528102",
          "exception": false,
          "start_time": "2024-02-21T15:58:21.432297",
          "status": "completed"
        },
        "tags": [],
        "id": "82db86aa"
      },
      "outputs": [],
      "source": [
        "import chromadb\n",
        "from chromadb.config import Settings"
      ]
    },
    {
      "cell_type": "markdown",
      "id": "051bc3a1",
      "metadata": {
        "papermill": {
          "duration": 0.015938,
          "end_time": "2024-02-21T15:58:22.560953",
          "exception": false,
          "start_time": "2024-02-21T15:58:22.545015",
          "status": "completed"
        },
        "tags": [],
        "id": "051bc3a1"
      },
      "source": [
        "Now we need to create the seetings object calling the **Settings** function imported previously. We store the object in the variable **settings_chroma**.\n",
        "\n",
        "Is necessary to inform two parameters\n",
        "* chroma_db_impl. Here we specify the database implementation and the format how store the data. I choose ***duckdb***, because his high-performace. It operate primarly in memory. And is fully compatible with SQL. The store format ***parquet*** is good for tabular data. With good compression rates and performance.\n",
        "\n",
        "* persist_directory: It just contains the directory where the data will be stored. Is possible work without a directory and the data will be stored in memory without persistece, but Kaggle dosn't support that."
      ]
    },
    {
      "cell_type": "code",
      "execution_count": 10,
      "id": "b21a77ff",
      "metadata": {
        "papermill": {
          "duration": 0.640745,
          "end_time": "2024-02-21T15:58:23.217828",
          "exception": false,
          "start_time": "2024-02-21T15:58:22.577083",
          "status": "completed"
        },
        "tags": [],
        "id": "b21a77ff"
      },
      "outputs": [],
      "source": [
        "chroma_client = chromadb.PersistentClient(path=\"/Users/f.nuno/IronHack/Lab/Week7\")"
      ]
    },
    {
      "cell_type": "markdown",
      "id": "b5176774",
      "metadata": {
        "papermill": {
          "duration": 0.016853,
          "end_time": "2024-02-21T15:58:23.252446",
          "exception": false,
          "start_time": "2024-02-21T15:58:23.235593",
          "status": "completed"
        },
        "tags": [],
        "id": "b5176774"
      },
      "source": [
        "## Filling and Querying the ChromaDB Database\n",
        "The Data in ChromaDB is stored in collections. If the collection exist we need to delete it.\n",
        "\n",
        "In the next lines, we are creating the collection by calling the ***create_collection*** function in the ***chroma_client*** created above."
      ]
    },
    {
      "cell_type": "code",
      "execution_count": 11,
      "id": "a0cc5748",
      "metadata": {
        "papermill": {
          "duration": 0.090234,
          "end_time": "2024-02-21T15:58:23.358887",
          "exception": false,
          "start_time": "2024-02-21T15:58:23.268653",
          "status": "completed"
        },
        "tags": [],
        "id": "a0cc5748"
      },
      "outputs": [],
      "source": [
        "collection_name = \"news_collection\"\n",
        "if len(chroma_client.list_collections()) > 0 and collection_name in [chroma_client.list_collections()[0].name]:\n",
        "        chroma_client.delete_collection(name=collection_name)\n",
        "\n",
        "collection = chroma_client.create_collection(name=collection_name)\n",
        ""
      ]
    },
    {
      "cell_type": "markdown",
      "id": "688831d1",
      "metadata": {
        "papermill": {
          "duration": 0.01831,
          "end_time": "2024-02-21T15:58:23.394771",
          "exception": false,
          "start_time": "2024-02-21T15:58:23.376461",
          "status": "completed"
        },
        "tags": [],
        "id": "688831d1"
      },
      "source": [
        "It's time to add the data to the collection. Using the function ***add*** we need to inform, at least ***documents***, ***metadatas*** and ***ids***.\n",
        "* In the **document** we store the big text, it's a different column in each Dataset.\n",
        "* In **metadatas**, we can informa a list of topics.\n",
        "* In **id** we need to inform an unique identificator for each row. It MUST be unique! I'm creating the ID using the range of MAX_NEWS.\n"
      ]
    },
    {
      "cell_type": "code",
      "execution_count": 12,
      "id": "4fb1a28a",
      "metadata": {
        "papermill": {
          "duration": 89.680388,
          "end_time": "2024-02-21T15:59:53.091437",
          "exception": false,
          "start_time": "2024-02-21T15:58:23.411049",
          "status": "completed"
        },
        "tags": [],
        "colab": {
          "base_uri": "https://localhost:8080/"
        },
        "id": "4fb1a28a",
        "outputId": "5cf8cb28-1362-4853-ccde-8d4375d79361"
      },
      "outputs": [
        {
          "output_type": "stream",
          "name": "stderr",
          "text": [
            "Adding documents to collection: 100%|██████████| 1000/1000 [00:33<00:00, 29.72it/s]"
          ]
        },
        {
          "output_type": "stream",
          "name": "stdout",
          "text": [
            "Documents added to collection.\n"
          ]
        },
        {
          "output_type": "stream",
          "name": "stderr",
          "text": [
            "\n"
          ]
        }
      ],
      "source": [
        "from tqdm import tqdm\n",
        "\n",
        "# Example data\n",
        "subset_news_documents = subset_news[DOCUMENT].tolist()\n",
        "subset_news_topics = subset_news[TOPIC].tolist()\n",
        "max_news = MAX_NEWS\n",
        "\n",
        "# Create a tqdm progress bar\n",
        "progress_bar = tqdm(total=max_news, desc=\"Adding documents to collection\")\n",
        "\n",
        "# Iterate over the documents and add them to the collection\n",
        "for idx in range(min(max_news, len(subset_news_documents))):\n",
        "    document = subset_news_documents[idx]\n",
        "    topic = subset_news_topics[idx]\n",
        "    document_id = f\"id{idx}\"\n",
        "\n",
        "    # Add document to collection\n",
        "    collection.add(\n",
        "        documents=[document],\n",
        "        metadatas=[{TOPIC: topic}],\n",
        "        ids=[document_id],\n",
        "    )\n",
        "\n",
        "    # Update progress bar\n",
        "    progress_bar.update(1)\n",
        "\n",
        "# Close the progress bar\n",
        "progress_bar.close()\n",
        "\n",
        "print(\"Documents added to collection.\")"
      ]
    },
    {
      "cell_type": "code",
      "execution_count": 13,
      "id": "ff6a4fcf",
      "metadata": {
        "papermill": {
          "duration": 0.121938,
          "end_time": "2024-02-21T15:59:53.236515",
          "exception": false,
          "start_time": "2024-02-21T15:59:53.114577",
          "status": "completed"
        },
        "tags": [],
        "colab": {
          "base_uri": "https://localhost:8080/"
        },
        "id": "ff6a4fcf",
        "outputId": "07457784-20e0-43ce-a703-f1940eb7034f"
      },
      "outputs": [
        {
          "output_type": "stream",
          "name": "stdout",
          "text": [
            "{'ids': [['id173', 'id829', 'id117', 'id535', 'id141', 'id218', 'id390', 'id273', 'id56', 'id900']], 'distances': [[0.8593594431877136, 1.0294400453567505, 1.0793331861495972, 1.093001127243042, 1.1329679489135742, 1.2130440473556519, 1.214331865310669, 1.216414213180542, 1.2220635414123535, 1.2754170894622803]], 'metadatas': [[{'topic': 'TECHNOLOGY'}, {'topic': 'TECHNOLOGY'}, {'topic': 'TECHNOLOGY'}, {'topic': 'TECHNOLOGY'}, {'topic': 'TECHNOLOGY'}, {'topic': 'TECHNOLOGY'}, {'topic': 'TECHNOLOGY'}, {'topic': 'TECHNOLOGY'}, {'topic': 'TECHNOLOGY'}, {'topic': 'TECHNOLOGY'}]], 'embeddings': None, 'documents': [['The Legendary Toshiba is Officially Done With Making Laptops', '3 gaming laptop deals you can’t afford to miss today', 'Lenovo and HP control half of the global laptop market', 'Asus ROG Zephyrus G14 gaming laptop announced in India', 'Acer Swift 3 featuring a 10th-generation Intel Ice Lake CPU, 2K screen, and more launched in India for INR 64999 (US$865)', \"Apple's Next MacBook Could Be the Cheapest in Company's History\", \"Features of Huawei's Desktop Computer Revealed\", 'Redmi to launch its first gaming laptop on August 14: Here are all the details', 'Toshiba shuts the lid on laptops after 35 years', 'This is the cheapest Windows PC by a mile and it even has a spare SSD slot']], 'uris': None, 'data': None, 'included': ['metadatas', 'documents', 'distances']}\n"
          ]
        }
      ],
      "source": [
        "results = collection.query(query_texts=[\"laptop\"], n_results=10 )\n",
        "\n",
        "print(results)\n"
      ]
    },
    {
      "cell_type": "markdown",
      "id": "31fed3db",
      "metadata": {
        "papermill": {
          "duration": 0.02373,
          "end_time": "2024-02-21T15:59:53.281923",
          "exception": false,
          "start_time": "2024-02-21T15:59:53.258193",
          "status": "completed"
        },
        "tags": [],
        "id": "31fed3db"
      },
      "source": [
        "## Vector MAP"
      ]
    },
    {
      "cell_type": "code",
      "execution_count": 14,
      "id": "f5ed54f5",
      "metadata": {
        "papermill": {
          "duration": 1.602967,
          "end_time": "2024-02-21T15:59:54.906788",
          "exception": false,
          "start_time": "2024-02-21T15:59:53.303821",
          "status": "completed"
        },
        "tags": [],
        "id": "f5ed54f5"
      },
      "outputs": [],
      "source": [
        "import matplotlib.pyplot as plt\n",
        "from sklearn.decomposition import PCA"
      ]
    },
    {
      "cell_type": "code",
      "execution_count": 15,
      "id": "da0b01dd",
      "metadata": {
        "papermill": {
          "duration": 0.034729,
          "end_time": "2024-02-21T15:59:54.962541",
          "exception": false,
          "start_time": "2024-02-21T15:59:54.927812",
          "status": "completed"
        },
        "tags": [],
        "id": "da0b01dd"
      },
      "outputs": [],
      "source": [
        "\n",
        "getado = collection.get(ids=\"id141\",\n",
        "                       include=[\"documents\", \"embeddings\"])\n"
      ]
    },
    {
      "cell_type": "code",
      "execution_count": 16,
      "id": "e24e00a5",
      "metadata": {
        "_kg_hide-output": true,
        "papermill": {
          "duration": 0.0397,
          "end_time": "2024-02-21T15:59:55.022025",
          "exception": false,
          "start_time": "2024-02-21T15:59:54.982325",
          "status": "completed"
        },
        "scrolled": true,
        "tags": [],
        "colab": {
          "base_uri": "https://localhost:8080/"
        },
        "id": "e24e00a5",
        "outputId": "b2646182-1ba7-4978-fa11-21bed20008c3"
      },
      "outputs": [
        {
          "output_type": "execute_result",
          "data": {
            "text/plain": [
              "[[-0.080856092274189,\n",
              "  -0.049963705241680145,\n",
              "  -0.023777497932314873,\n",
              "  -0.011053608730435371,\n",
              "  0.026657693088054657,\n",
              "  -0.04479333758354187,\n",
              "  -0.02889661304652691,\n",
              "  0.02665606327354908,\n",
              "  0.001439746585674584,\n",
              "  -0.016407813876867294,\n",
              "  0.0653492659330368,\n",
              "  -0.06901992857456207,\n",
              "  -0.05748080089688301,\n",
              "  0.010111603885889053,\n",
              "  0.05043034628033638,\n",
              "  -0.0020577639807015657,\n",
              "  0.07256408035755157,\n",
              "  -0.124373659491539,\n",
              "  0.010659422725439072,\n",
              "  -0.10942044109106064,\n",
              "  -0.011432396247982979,\n",
              "  -0.01037602312862873,\n",
              "  -0.020610831677913666,\n",
              "  -0.024394067004323006,\n",
              "  0.07828475534915924,\n",
              "  0.005820578429847956,\n",
              "  0.023317743092775345,\n",
              "  -0.08243827521800995,\n",
              "  -0.027265075594186783,\n",
              "  0.004667513072490692,\n",
              "  0.0043401713483035564,\n",
              "  0.03252802789211273,\n",
              "  -0.02603098191320896,\n",
              "  0.07963903248310089,\n",
              "  0.0421820804476738,\n",
              "  -0.12119995057582855,\n",
              "  0.049070827662944794,\n",
              "  -0.07625847309827805,\n",
              "  0.04331619665026665,\n",
              "  -0.08360451459884644,\n",
              "  -0.07140403240919113,\n",
              "  -0.01879248395562172,\n",
              "  0.03604936972260475,\n",
              "  0.04284561052918434,\n",
              "  0.025760455057024956,\n",
              "  0.039725158363580704,\n",
              "  -0.007091290317475796,\n",
              "  0.035189975053071976,\n",
              "  0.027369113638997078,\n",
              "  0.009289849549531937,\n",
              "  -0.039161667227745056,\n",
              "  -0.03740129992365837,\n",
              "  -0.03369569033384323,\n",
              "  -0.06543105840682983,\n",
              "  0.01919756829738617,\n",
              "  -0.00908383447676897,\n",
              "  0.022507965564727783,\n",
              "  -0.043467555195093155,\n",
              "  0.03663363680243492,\n",
              "  0.09003792703151703,\n",
              "  0.037535011768341064,\n",
              "  -0.046986714005470276,\n",
              "  -0.0214504674077034,\n",
              "  0.049021799117326736,\n",
              "  0.0008767086546868086,\n",
              "  -0.0491013377904892,\n",
              "  0.0196517463773489,\n",
              "  -0.11427141726016998,\n",
              "  -0.004121285397559404,\n",
              "  -0.059363994747400284,\n",
              "  0.08288160711526871,\n",
              "  -0.015205097384750843,\n",
              "  0.05800361931324005,\n",
              "  -0.009099232964217663,\n",
              "  -0.06618720293045044,\n",
              "  -0.04995490983128548,\n",
              "  0.051422785967588425,\n",
              "  -0.030697576701641083,\n",
              "  -0.005996118765324354,\n",
              "  -0.017441166564822197,\n",
              "  -0.006716528907418251,\n",
              "  -0.026863785460591316,\n",
              "  0.009797829203307629,\n",
              "  0.0126980384811759,\n",
              "  -0.017240021377801895,\n",
              "  -0.04072215408086777,\n",
              "  0.02619200013577938,\n",
              "  -0.03633129596710205,\n",
              "  -0.005993362981826067,\n",
              "  -0.03835158422589302,\n",
              "  -0.0025671622715890408,\n",
              "  0.01781628653407097,\n",
              "  0.01563817448914051,\n",
              "  -0.0024252464063465595,\n",
              "  -0.046936117112636566,\n",
              "  0.014938590116798878,\n",
              "  0.057856060564517975,\n",
              "  -0.0426652766764164,\n",
              "  -0.05195881798863411,\n",
              "  0.07029524445533752,\n",
              "  0.017409685999155045,\n",
              "  0.010440297424793243,\n",
              "  0.06522300094366074,\n",
              "  -0.0005443905247375369,\n",
              "  -0.007273924071341753,\n",
              "  -0.01764904335141182,\n",
              "  -0.01343500055372715,\n",
              "  0.044877905398607254,\n",
              "  -0.040486834943294525,\n",
              "  0.05065854638814926,\n",
              "  -0.006964834872633219,\n",
              "  -0.03902634233236313,\n",
              "  -0.061165884137153625,\n",
              "  0.00961898360401392,\n",
              "  -0.019373128190636635,\n",
              "  -0.0725998654961586,\n",
              "  -0.05417890474200249,\n",
              "  -0.012206223793327808,\n",
              "  0.14574122428894043,\n",
              "  0.07729610800743103,\n",
              "  -0.034897755831480026,\n",
              "  0.02000734768807888,\n",
              "  -0.009718465618789196,\n",
              "  -0.0023303222842514515,\n",
              "  -0.0887768566608429,\n",
              "  0.007430662401020527,\n",
              "  -0.02245386876165867,\n",
              "  2.9391669528746844e-33,\n",
              "  -0.032260339707136154,\n",
              "  0.026466941460967064,\n",
              "  -0.06441567838191986,\n",
              "  -0.10495100915431976,\n",
              "  0.007915503345429897,\n",
              "  -0.05624104291200638,\n",
              "  0.060064900666475296,\n",
              "  0.0203566737473011,\n",
              "  0.008408079855144024,\n",
              "  0.003942808602005243,\n",
              "  -0.07579407095909119,\n",
              "  -0.05928371846675873,\n",
              "  -0.07090272009372711,\n",
              "  0.04760292172431946,\n",
              "  0.12866827845573425,\n",
              "  -0.09145345538854599,\n",
              "  -0.06453357636928558,\n",
              "  -0.022725839167833328,\n",
              "  -0.007938710041344166,\n",
              "  0.08817120641469955,\n",
              "  0.030397843569517136,\n",
              "  -0.08102215081453323,\n",
              "  -0.0047113532200455666,\n",
              "  0.008305789902806282,\n",
              "  -0.008205695077776909,\n",
              "  0.04484102129936218,\n",
              "  0.003640822833403945,\n",
              "  -0.01538055669516325,\n",
              "  0.06941365450620651,\n",
              "  0.02624167874455452,\n",
              "  0.0421229712665081,\n",
              "  -0.022600192576646805,\n",
              "  -0.004685673397034407,\n",
              "  -0.08609002083539963,\n",
              "  -0.0017022185493260622,\n",
              "  -0.03647527098655701,\n",
              "  0.03104809857904911,\n",
              "  -0.07396794855594635,\n",
              "  0.0006451710360124707,\n",
              "  0.05768986791372299,\n",
              "  -0.03433111310005188,\n",
              "  0.10101553797721863,\n",
              "  -0.07978132367134094,\n",
              "  -0.017709655687212944,\n",
              "  0.03582654893398285,\n",
              "  0.07763750106096268,\n",
              "  0.0071943774819374084,\n",
              "  0.05085880309343338,\n",
              "  0.031669341027736664,\n",
              "  -0.05025407671928406,\n",
              "  -0.11920307576656342,\n",
              "  -0.0021297431085258722,\n",
              "  -0.010739380493760109,\n",
              "  -0.04825349524617195,\n",
              "  0.051934391260147095,\n",
              "  -0.003345833159983158,\n",
              "  0.04570862278342247,\n",
              "  -0.006319802720099688,\n",
              "  0.13073936104774475,\n",
              "  0.05694258213043213,\n",
              "  -0.10317552834749222,\n",
              "  -0.021950311958789825,\n",
              "  -0.051250848919153214,\n",
              "  -0.0066707381047308445,\n",
              "  -0.04244103655219078,\n",
              "  0.07283089309930801,\n",
              "  0.08295753598213196,\n",
              "  -0.014510496519505978,\n",
              "  -0.050436656922101974,\n",
              "  -0.006399689242243767,\n",
              "  -0.05111796408891678,\n",
              "  -0.060900330543518066,\n",
              "  0.12017732113599777,\n",
              "  -0.007007995154708624,\n",
              "  -0.018361011520028114,\n",
              "  0.05737387388944626,\n",
              "  -0.06952650099992752,\n",
              "  -0.0329073891043663,\n",
              "  -0.0460195317864418,\n",
              "  -0.040264252573251724,\n",
              "  -0.039742033928632736,\n",
              "  0.04068471118807793,\n",
              "  0.0641421228647232,\n",
              "  0.08900656551122665,\n",
              "  -0.0006039433646947145,\n",
              "  0.06864350289106369,\n",
              "  -0.04542216286063194,\n",
              "  -0.012834928929805756,\n",
              "  0.014704249799251556,\n",
              "  0.08229123800992966,\n",
              "  -0.011864704079926014,\n",
              "  -0.007569525390863419,\n",
              "  0.029478946700692177,\n",
              "  -0.017556918784976006,\n",
              "  0.030267802998423576,\n",
              "  -3.4444798318695305e-33,\n",
              "  0.013093588873744011,\n",
              "  -0.05642778053879738,\n",
              "  -0.053934045135974884,\n",
              "  0.020105475559830666,\n",
              "  0.00218633352778852,\n",
              "  0.02147437259554863,\n",
              "  -0.016751889139413834,\n",
              "  0.11519584059715271,\n",
              "  0.009137540124356747,\n",
              "  0.0027902252040803432,\n",
              "  -0.028134971857070923,\n",
              "  0.08885100483894348,\n",
              "  0.07289770990610123,\n",
              "  0.029725486412644386,\n",
              "  0.033138323575258255,\n",
              "  -0.03830660134553909,\n",
              "  -0.015428626909852028,\n",
              "  -0.02588716149330139,\n",
              "  0.02991277351975441,\n",
              "  0.02146500162780285,\n",
              "  0.055984679609537125,\n",
              "  0.024117352440953255,\n",
              "  0.01360230054706335,\n",
              "  0.001853872206993401,\n",
              "  0.04671241343021393,\n",
              "  0.019653145223855972,\n",
              "  -0.061102479696273804,\n",
              "  0.006502066273242235,\n",
              "  0.04413033276796341,\n",
              "  -0.030408674851059914,\n",
              "  0.0033922067377716303,\n",
              "  -0.07827480882406235,\n",
              "  0.08200997114181519,\n",
              "  0.02194579690694809,\n",
              "  -0.042142778635025024,\n",
              "  -0.011046947911381721,\n",
              "  0.1122175008058548,\n",
              "  -0.03547650948166847,\n",
              "  -0.020349232479929924,\n",
              "  0.058639734983444214,\n",
              "  0.06194823607802391,\n",
              "  0.0041630202904343605,\n",
              "  0.025604253634810448,\n",
              "  0.07054831832647324,\n",
              "  0.026611290872097015,\n",
              "  0.039018671959638596,\n",
              "  -0.0028351102955639362,\n",
              "  -0.013862944208085537,\n",
              "  -0.03907373920083046,\n",
              "  -0.10136906057596207,\n",
              "  0.015272984281182289,\n",
              "  -0.06360489875078201,\n",
              "  0.00942913442850113,\n",
              "  -0.03778135031461716,\n",
              "  -0.07231792062520981,\n",
              "  -0.055983804166316986,\n",
              "  0.014629634097218513,\n",
              "  0.006302493624389172,\n",
              "  0.036601901054382324,\n",
              "  -0.07091112434864044,\n",
              "  0.03455740958452225,\n",
              "  0.021303299814462662,\n",
              "  0.018934432417154312,\n",
              "  0.019313128665089607,\n",
              "  0.007075125351548195,\n",
              "  0.01862226612865925,\n",
              "  0.050892237573862076,\n",
              "  0.033372242003679276,\n",
              "  -0.008652807213366032,\n",
              "  -0.02381417155265808,\n",
              "  -0.057651080191135406,\n",
              "  -0.10482975840568542,\n",
              "  0.013372022658586502,\n",
              "  -0.01933068037033081,\n",
              "  -0.01636396534740925,\n",
              "  0.043135885149240494,\n",
              "  -0.019315388053655624,\n",
              "  0.04287665709853172,\n",
              "  0.0722862109541893,\n",
              "  -0.00422928761690855,\n",
              "  0.025138597935438156,\n",
              "  0.07576542347669601,\n",
              "  0.03338634595274925,\n",
              "  0.022974111139774323,\n",
              "  0.07685323059558868,\n",
              "  -0.052259355783462524,\n",
              "  0.04328935593366623,\n",
              "  -0.012385092675685883,\n",
              "  -0.0365903340280056,\n",
              "  -0.01277448795735836,\n",
              "  -0.04613626375794411,\n",
              "  0.051983073353767395,\n",
              "  -0.06112853065133095,\n",
              "  -0.0003355972876306623,\n",
              "  -0.006177392788231373,\n",
              "  -2.835624712815843e-08,\n",
              "  0.06613793969154358,\n",
              "  0.011798045597970486,\n",
              "  0.03711370751261711,\n",
              "  0.046967171132564545,\n",
              "  0.04303533583879471,\n",
              "  -0.09251103550195694,\n",
              "  0.04613521695137024,\n",
              "  0.08055241405963898,\n",
              "  0.10685130953788757,\n",
              "  -0.007414963562041521,\n",
              "  -0.04132033884525299,\n",
              "  -0.0830371305346489,\n",
              "  -0.01820340007543564,\n",
              "  0.013738775625824928,\n",
              "  0.04395816847681999,\n",
              "  0.03730737417936325,\n",
              "  0.033157795667648315,\n",
              "  0.0881715640425682,\n",
              "  0.00198806612752378,\n",
              "  -0.07271487265825272,\n",
              "  0.023060999810695648,\n",
              "  0.04958247020840645,\n",
              "  0.09864992648363113,\n",
              "  -0.09664388746023178,\n",
              "  -0.038994189351797104,\n",
              "  0.04047476127743721,\n",
              "  -0.05303855612874031,\n",
              "  0.030482789501547813,\n",
              "  0.06002916023135185,\n",
              "  0.010914810001850128,\n",
              "  -0.10208377242088318,\n",
              "  0.03962487727403641,\n",
              "  0.03992469236254692,\n",
              "  -0.08412324637174606,\n",
              "  0.09101277589797974,\n",
              "  -0.06123005226254463,\n",
              "  -0.037172503769397736,\n",
              "  -0.019029755145311356,\n",
              "  0.0963117778301239,\n",
              "  -0.024584688246250153,\n",
              "  -0.01075119711458683,\n",
              "  0.0013019827893003821,\n",
              "  -0.07538685202598572,\n",
              "  -0.01894020475447178,\n",
              "  0.05480125918984413,\n",
              "  0.0030687078833580017,\n",
              "  -0.10229133069515228,\n",
              "  -0.10274931788444519,\n",
              "  0.0010229615727439523,\n",
              "  0.038387786597013474,\n",
              "  -0.03387368842959404,\n",
              "  -0.006812278646975756,\n",
              "  -0.028700850903987885,\n",
              "  0.061818525195121765,\n",
              "  0.01225935760885477,\n",
              "  0.025608742609620094,\n",
              "  -0.03962227329611778,\n",
              "  -0.0630202665925026,\n",
              "  -0.10198359191417694,\n",
              "  0.09703316539525986,\n",
              "  0.12165303528308868,\n",
              "  -0.10480320453643799,\n",
              "  -0.047979313880205154,\n",
              "  0.07281225174665451]]"
            ]
          },
          "metadata": {},
          "execution_count": 16
        }
      ],
      "source": [
        "word_vectors = getado[\"embeddings\"]\n",
        "word_list = getado[\"documents\"]\n",
        "word_vectors"
      ]
    },
    {
      "cell_type": "markdown",
      "id": "bebef744",
      "metadata": {
        "papermill": {
          "duration": 0.020311,
          "end_time": "2024-02-21T15:59:55.063094",
          "exception": false,
          "start_time": "2024-02-21T15:59:55.042783",
          "status": "completed"
        },
        "tags": [],
        "id": "bebef744"
      },
      "source": [
        "Once we have our information inside the Database we can query It, and ask for data that matches our needs. The search is done inside the content of the document, and it dosn't look for the exact word, or phrase. The results will be based on the similarity between the search terms and the content of documents.\n",
        "\n",
        "The metadata is not used in the search, but they can be utilized for filtering or refining the results after the initial search.\n"
      ]
    },
    {
      "cell_type": "markdown",
      "id": "4b453d6c",
      "metadata": {
        "papermill": {
          "duration": 0.020024,
          "end_time": "2024-02-21T15:59:55.103621",
          "exception": false,
          "start_time": "2024-02-21T15:59:55.083597",
          "status": "completed"
        },
        "tags": [],
        "id": "4b453d6c"
      },
      "source": [
        "## Loading the model and creating the prompt\n",
        "TRANSFORMERS!!\n",
        "Time to use the library **transformers**, the most famous library from [hugging face](https://huggingface.co/) for working with language models.\n",
        "\n",
        "We are importing:\n",
        "* **Autotokenizer**: It is a utility class for tokenizing text inputs that are compatible with various pre-trained language models.\n",
        "* **AutoModelForCasualLLM**: it provides an interface to pre-trained language models specifically designed for language generation tasks using causal language modeling (e.g., GPT models), or the model used in this notebook ***databricks/dolly-v2-3b***.\n",
        "* **pipeline**: provides a simple interface for performing various natural language processing (NLP) tasks, such as text generation (our case) or text classification.\n",
        "\n",
        "The model selected is [dolly-v2-3b](https://huggingface.co/databricks/dolly-v2-3b), the smallest Dolly model. It have 3billion paramaters, more than enough for our sample, and works much better than GPT2.\n",
        "\n",
        "Please, feel free to test [different Models](https://huggingface.co/models?pipeline_tag=text-generation&sort=trending), you need to search for NLP models trained for text-generation. My recomendation is choose \"small\" models, or we will run out of memory in kaggle.  \n"
      ]
    },
    {
      "cell_type": "code",
      "execution_count": 17,
      "id": "92a68bf6",
      "metadata": {
        "papermill": {
          "duration": 55.839281,
          "end_time": "2024-02-21T16:00:50.963197",
          "exception": false,
          "start_time": "2024-02-21T15:59:55.123916",
          "status": "completed"
        },
        "tags": [],
        "colab": {
          "base_uri": "https://localhost:8080/"
        },
        "id": "92a68bf6",
        "outputId": "dd4c3edd-fce3-4005-bbda-3380ceb4733c"
      },
      "outputs": [
        {
          "output_type": "stream",
          "name": "stderr",
          "text": [
            "Special tokens have been added in the vocabulary, make sure the associated word embeddings are fine-tuned or trained.\n"
          ]
        }
      ],
      "source": [
        "from transformers import AutoTokenizer, AutoModelForCausalLM, pipeline\n",
        "\n",
        "model_id = \"databricks/dolly-v2-3b\"\n",
        "tokenizer = AutoTokenizer.from_pretrained(model_id)\n",
        "lm_model = AutoModelForCausalLM.from_pretrained(model_id)"
      ]
    },
    {
      "cell_type": "markdown",
      "id": "c03c93f7",
      "metadata": {
        "papermill": {
          "duration": 0.024466,
          "end_time": "2024-02-21T16:00:51.011156",
          "exception": false,
          "start_time": "2024-02-21T16:00:50.98669",
          "status": "completed"
        },
        "tags": [],
        "id": "c03c93f7"
      },
      "source": [
        "The next step is to initialize the pipeline using the objects created above.\n",
        "\n",
        "The model's response is limited to 256 tokens, for this project I'm not interested in a longer response, but it can easily be extended to whatever length you want.\n",
        "\n",
        "Setting ***device_map*** to ***auto*** we are instructing the model to automaticaly select the most appropiate device: CPU or GPU for processing the text generation.  "
      ]
    },
    {
      "cell_type": "code",
      "execution_count": 18,
      "id": "7660416b",
      "metadata": {
        "papermill": {
          "duration": 0.043207,
          "end_time": "2024-02-21T16:00:51.080338",
          "exception": false,
          "start_time": "2024-02-21T16:00:51.037131",
          "status": "completed"
        },
        "tags": [],
        "id": "7660416b"
      },
      "outputs": [],
      "source": [
        "pipe = pipeline(\n",
        "    \"text-generation\",\n",
        "    model=lm_model,\n",
        "    tokenizer=tokenizer,\n",
        "    max_new_tokens=256,\n",
        "    device_map=\"auto\",\n",
        "    )"
      ]
    },
    {
      "cell_type": "markdown",
      "id": "4141db50",
      "metadata": {
        "papermill": {
          "duration": 0.022571,
          "end_time": "2024-02-21T16:00:51.125582",
          "exception": false,
          "start_time": "2024-02-21T16:00:51.103011",
          "status": "completed"
        },
        "tags": [],
        "id": "4141db50"
      },
      "source": [
        "## Creating the extended prompt\n",
        "To create the prompt we use the result from query the Vector Database  and the sentence introduced by the user.\n",
        "\n",
        "The prompt have two parts, the **relevant context** that is the information recovered from the database and the **user's question**.\n",
        "\n",
        "We only need to join the two parts together to create the prompt that we are going to send to the model.\n",
        "\n",
        "You can limit the lenght of the context passed to the model, because we can get some Memory problems with one of the datasets that contains a realy large text in the document part."
      ]
    },
    {
      "cell_type": "code",
      "execution_count": 19,
      "id": "574efc79",
      "metadata": {
        "papermill": {
          "duration": 0.03515,
          "end_time": "2024-02-21T16:00:51.186906",
          "exception": false,
          "start_time": "2024-02-21T16:00:51.151756",
          "status": "completed"
        },
        "tags": [],
        "colab": {
          "base_uri": "https://localhost:8080/",
          "height": 125
        },
        "id": "574efc79",
        "outputId": "4a13378b-b732-4a2e-e47e-a26b0ebda4a1"
      },
      "outputs": [
        {
          "output_type": "execute_result",
          "data": {
            "text/plain": [
              "\"Relevant context: #The Legendary Toshiba is Officially Done With Making Laptops #3 gaming laptop deals you can’t afford to miss today #Lenovo and HP control half of the global laptop market #Asus ROG Zephyrus G14 gaming laptop announced in India #Acer Swift 3 featuring a 10th-generation Intel Ice Lake CPU, 2K screen, and more launched in India for INR 64999 (US$865) #Apple's Next MacBook Could Be the Cheapest in Company's History #Features of Huawei's Desktop Computer Revealed #Redmi to launch its first gaming laptop on August 14: Here are all the details #Toshiba shuts the lid on laptops after 35 years #This is the cheapest Windows PC by a mile and it even has a spare SSD slot\\n\\n The user's question: Can I buy a Toshiba laptop?\""
            ],
            "application/vnd.google.colaboratory.intrinsic+json": {
              "type": "string"
            }
          },
          "metadata": {},
          "execution_count": 19
        }
      ],
      "source": [
        "question = \"Can I buy a Toshiba laptop?\"\n",
        "context = \" \".join([f\"#{str(i)}\" for i in results[\"documents\"][0]])\n",
        "#context = context[0:5120]\n",
        "prompt_template = f\"Relevant context: {context}\\n\\n The user's question: {question}\"\n",
        "prompt_template"
      ]
    },
    {
      "cell_type": "markdown",
      "id": "5977f60c",
      "metadata": {
        "papermill": {
          "duration": 0.022946,
          "end_time": "2024-02-21T16:00:51.232628",
          "exception": false,
          "start_time": "2024-02-21T16:00:51.209682",
          "status": "completed"
        },
        "tags": [],
        "id": "5977f60c"
      },
      "source": [
        "Now all that remains is to send the prompt to the model and wait for its response!\n"
      ]
    },
    {
      "cell_type": "code",
      "execution_count": 20,
      "id": "44b04b71",
      "metadata": {
        "papermill": {
          "duration": 27.680172,
          "end_time": "2024-02-21T16:01:18.936235",
          "exception": false,
          "start_time": "2024-02-21T16:00:51.256063",
          "status": "completed"
        },
        "tags": [],
        "colab": {
          "base_uri": "https://localhost:8080/"
        },
        "id": "44b04b71",
        "outputId": "0e193270-2add-4bee-9342-e91bb2fc1540"
      },
      "outputs": [
        {
          "output_type": "stream",
          "name": "stdout",
          "text": [
            "Relevant context: #The Legendary Toshiba is Officially Done With Making Laptops #3 gaming laptop deals you can’t afford to miss today #Lenovo and HP control half of the global laptop market #Asus ROG Zephyrus G14 gaming laptop announced in India #Acer Swift 3 featuring a 10th-generation Intel Ice Lake CPU, 2K screen, and more launched in India for INR 64999 (US$865) #Apple's Next MacBook Could Be the Cheapest in Company's History #Features of Huawei's Desktop Computer Revealed #Redmi to launch its first gaming laptop on August 14: Here are all the details #Toshiba shuts the lid on laptops after 35 years #This is the cheapest Windows PC by a mile and it even has a spare SSD slot\n",
            "\n",
            " The user's question: Can I buy a Toshiba laptop?\n",
            "The answer: No, Toshiba has decided to stop manufacturing laptops.\n",
            "\n",
            "\n"
          ]
        }
      ],
      "source": [
        "lm_response = pipe(prompt_template)\n",
        "print(lm_response[0][\"generated_text\"])"
      ]
    },
    {
      "cell_type": "code",
      "execution_count": null,
      "id": "529d1592-b4bd-4eed-9e68-04c8b60cb86a",
      "metadata": {
        "id": "529d1592-b4bd-4eed-9e68-04c8b60cb86a"
      },
      "outputs": [],
      "source": []
    }
  ],
  "metadata": {
    "kaggle": {
      "accelerator": "none",
      "dataSources": [
        {
          "datasetId": 836401,
          "sourceId": 1428159,
          "sourceType": "datasetVersion"
        },
        {
          "datasetId": 3496946,
          "sourceId": 6104553,
          "sourceType": "datasetVersion"
        },
        {
          "datasetId": 1977878,
          "sourceId": 7598394,
          "sourceType": "datasetVersion"
        }
      ],
      "dockerImageVersionId": 30527,
      "isGpuEnabled": false,
      "isInternetEnabled": true,
      "language": "python",
      "sourceType": "notebook"
    },
    "kernelspec": {
      "display_name": "Python 3",
      "name": "python3"
    },
    "language_info": {
      "codemirror_mode": {
        "name": "ipython",
        "version": 3
      },
      "file_extension": ".py",
      "mimetype": "text/x-python",
      "name": "python",
      "nbconvert_exporter": "python",
      "pygments_lexer": "ipython3",
      "version": "3.12.2"
    },
    "papermill": {
      "default_parameters": {},
      "duration": 489.921972,
      "end_time": "2024-02-21T16:01:21.828095",
      "environment_variables": {},
      "exception": null,
      "input_path": "__notebook__.ipynb",
      "output_path": "__notebook__.ipynb",
      "parameters": {},
      "start_time": "2024-02-21T15:53:11.906123",
      "version": "2.4.0"
    },
    "colab": {
      "provenance": [],
      "machine_shape": "hm",
      "gpuType": "A100",
      "include_colab_link": true
    },
    "accelerator": "GPU"
  },
  "nbformat": 4,
  "nbformat_minor": 5
}